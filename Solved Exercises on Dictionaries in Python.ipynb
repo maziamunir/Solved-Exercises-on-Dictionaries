{
 "cells": [
  {
   "cell_type": "code",
   "execution_count": 21,
   "id": "62f6cb7d-0bf3-4556-84a2-eae67cfef64f",
   "metadata": {},
   "outputs": [
    {
     "name": "stdout",
     "output_type": "stream",
     "text": [
      "{'aviation study,movies': 1}\n"
     ]
    }
   ],
   "source": [
    "# Create a dictionary to store information about a person (name, age, city, hobbies):\n",
    "my_dict={\"Name\":\"Mav\",\"Age\":\"61\",\"City\":\"NAS Miramar\",\"Hobbies\":\"Aviation study,Movies\"}\n",
    "# Write a program to count the frequency of words in a given text:\n",
    "def word_frequency_in_hobbies(text):\n",
    "    words = text.lower().split(\", \")\n",
    "    frequency = {}\n",
    "    for word in words:\n",
    "        word = word.strip(\",.!?\")  \n",
    "        if word in frequency:\n",
    "            frequency[word] += 1\n",
    "        else:\n",
    "            frequency[word] = 1\n",
    "    return frequency\n",
    "hobbies = my_dict[\"Hobbies\"]\n",
    "word_count = word_frequency_in_hobbies(hobbies)\n",
    "print(word_count)"
   ]
  },
  {
   "cell_type": "code",
   "execution_count": 9,
   "id": "60e7b296-335e-4c28-823a-264ec290b199",
   "metadata": {},
   "outputs": [
    {
     "name": "stdout",
     "output_type": "stream",
     "text": [
      "apple: 60 items\n",
      "banana: 25 items\n",
      "orange: 20 items\n"
     ]
    }
   ],
   "source": [
    "# Implement a simple inventory system using dictionaries:\n",
    "inventory = {\"apple\": 50,\"banana\": 30, \"orange\": 20}\n",
    "def add_item(item, quantity):\n",
    "    if item in inventory:\n",
    "        inventory[item] += quantity\n",
    "    else:\n",
    "        inventory[item] = quantity\n",
    "def remove_item(item, quantity):\n",
    "    if item in inventory and inventory[item] >= quantity:\n",
    "        inventory[item] -= quantity\n",
    "    else:\n",
    "        print(f\" Not enough {item} in stock.\")\n",
    "def display_inventory():\n",
    "    for item, quantity in inventory.items():\n",
    "        print(f\"{item}: {quantity} items\")\n",
    "add_item(\"apple\", 10)\n",
    "remove_item(\"banana\", 5)\n",
    "display_inventory()\n"
   ]
  },
  {
   "cell_type": "code",
   "execution_count": 11,
   "id": "2923e1f5-f614-4a26-a127-300889220d66",
   "metadata": {},
   "outputs": [
    {
     "name": "stdout",
     "output_type": "stream",
     "text": [
      "The most popular category is: electronics\n"
     ]
    }
   ],
   "source": [
    "# Analyze a dataset of customer orders to find the most popular product category:\n",
    "orders = [{\"order_id\": 1,\"category\": \"electronics\", \"amount\": 100},\n",
    "          {\"order_id\": 2,\"category\": \"clothing\", \"amount\": 50},\n",
    "          {\"order_id\": 3,\"category\": \"electronics\", \"amount\": 200}\n",
    "         ]\n",
    "def most_popular_category(orders):\n",
    "    category_count = {}\n",
    "    for order in orders:\n",
    "        category = order[\"category\"]\n",
    "        if category in category_count:\n",
    "            category_count[category] += 1\n",
    "        else:\n",
    "            category_count[category] = 1\n",
    "    popular_category = max(category_count, key=category_count.get)\n",
    "    return popular_category\n",
    "popular_category = most_popular_category(orders)\n",
    "print(f\"The most popular category is: {popular_category}\")"
   ]
  },
  {
   "cell_type": "code",
   "execution_count": 15,
   "id": "2ebe3c57-f4f3-4dbe-b0d7-fa14372a3bf7",
   "metadata": {},
   "outputs": [
    {
     "name": "stdout",
     "output_type": "stream",
     "text": [
      "Mav: 84.333333\n",
      "Phoenix: 91.666667\n",
      "Goose: 75.000000\n",
      "Rooster: 87.333333\n"
     ]
    }
   ],
   "source": [
    "# Create a dictionary to store student grades and calculate the average grade:\n",
    "grades = {\n",
    "    \"Mav\": [90, 85, 78],\n",
    "    \"Phoenix\": [92, 88, 95],\n",
    "    \"Goose\": [75, 80, 70],\n",
    "    \"Rooster\": [85, 87, 90]\n",
    "}\n",
    "def calculate_average(grades):\n",
    "    average_grades = {}\n",
    "    for student, scores in grades.items():\n",
    "        average_grades[student] = sum(scores) / len(scores)\n",
    "    return average_grades\n",
    "    \n",
    "average_grades = calculate_average(grades)\n",
    "for student, avg in average_grades.items():\n",
    "    print(f\"{student}: {avg:f}\")\n"
   ]
  },
  {
   "cell_type": "code",
   "execution_count": 61,
   "id": "82306b03-d2da-4dcd-bddc-a33fc2e9e79e",
   "metadata": {},
   "outputs": [
    {
     "name": "stdout",
     "output_type": "stream",
     "text": [
      "Product  added successfully.\n",
      "Quantity of paper updated to 50.\n",
      "Quantity of pen updated to 40.\n",
      "Total inventory value: $27650.000000\n",
      "Low-stock items: \n"
     ]
    }
   ],
   "source": [
    "# Inventory Management:\n",
    "# Dictionary to store product information\n",
    "inventory = {\n",
    "    \"pen\": {\"name\": \"pen\", \"quantity\": 50, \"price\": 15},\n",
    "    \"paper\": {\"name\": \"paper\", \"quantity\": 30, \"price\": 5},\n",
    "    \"marker\": {\"name\": \"marker\", \"quantity\": 20, \"price\": 20}\n",
    "}\n",
    "# Function to add a new product to the inventory\n",
    "def add_product(product_id, name, quantity, price):\n",
    "    if product_id not in inventory:\n",
    "        inventory[product_id] = {\"name\": name, \"quantity\": quantity, \"price\": price}\n",
    "        print(f\"Product {name} added successfully.\")\n",
    "    else:\n",
    "        print(f\"Product {name} already exists in inventory.\")\n",
    "# Function to update the quantity of an existing product\n",
    "def update_quantity(product_id, quantity):\n",
    "    if product_id in inventory:\n",
    "        inventory[product_id][\"quantity\"] += quantity\n",
    "        print(f\"Quantity of {inventory[product_id]['name']} updated to {inventory[product_id]['quantity']}.\")\n",
    "    else:\n",
    "        print(f\"Product with ID {product_id} not found.\")\n",
    "# Function to calculate the total inventory value\n",
    "def total_inventory_value():\n",
    "    total_value = 0\n",
    "    for product in inventory.values():\n",
    "        total_value += product[\"quantity\"] * product[\"price\"]\n",
    "    return total_value\n",
    "# Function to generate a report of low-stock items (below a certain threshold)\n",
    "def low_stock_report(threshold=10):\n",
    "    low_stock_items = []\n",
    "    for product in inventory.values():\n",
    "        if product[\"quantity\"] <= threshold:\n",
    "            low_stock_items.append(product[\"name\"])\n",
    "    return low_stock_items\n",
    "# Add a new product\n",
    "add_product(\"book\", \"\", 12, 2200)\n",
    "# Update product quantities\n",
    "update_quantity(\"paper\", 20)  \n",
    "update_quantity(\"pen\", -10)  \n",
    "# Calculate total inventory value\n",
    "total_value = total_inventory_value()\n",
    "print(f\"Total inventory value: ${total_value:f}\")\n",
    "# Generate a low-stock report (items with stock <= 10)\n",
    "low_stock = low_stock_report()\n",
    "print(f\"Low-stock items: {', '.join(low_stock)}\")\n"
   ]
  },
  {
   "cell_type": "code",
   "execution_count": 63,
   "id": "86c709d0-e3b6-4838-8b07-264b09ff6f99",
   "metadata": {},
   "outputs": [
    {
     "name": "stdout",
     "output_type": "stream",
     "text": [
      "Average grades:\n",
      "Mav: 84.333333\n",
      "Phoenix: 91.666667\n",
      "Rooster: 75.000000\n",
      "Goose: 87.333333\n",
      "Highest grade in math: Phoenix with 92 grade.\n",
      "Lowest grade in math: Rooster with 75 grade.\n",
      "Students sorted by average grade:\n",
      "Phoenix: 91.666667\n",
      "Goose: 87.333333\n",
      "Mav: 84.333333\n",
      "Rooster: 75.000000\n"
     ]
    }
   ],
   "source": [
    "# Student Gradebook:\n",
    "# Dictionary to store student information: name and grades for different subjects\n",
    "gradebook = {\n",
    "    \"Mav\": {\"math\": 90, \"Management\": 85, \"Programming\": 78},\n",
    "    \"Phoenix\": {\"math\": 92, \"Management\": 88, \"Programming\": 95},\n",
    "    \"Rooster\": {\"math\": 75, \"Management\": 80, \"Programming\": 70},\n",
    "    \"Goose\": {\"math\": 85, \"Management\": 87, \"Programming\": 90}\n",
    "}\n",
    "# Function to calculate the average grade for each student\n",
    "def calculate_averages(gradebook):\n",
    "    averages = {}\n",
    "    for student, grades in gradebook.items():\n",
    "        avg_grade = sum(grades.values()) / len(grades)\n",
    "        averages[student] = avg_grade\n",
    "    return averages\n",
    "# Function to find the highest and lowest grades in a specific subject\n",
    "def find_highest_and_lowest_in_subject(gradebook, subject):\n",
    "    highest = None\n",
    "    lowest = None\n",
    "    highest_student = None\n",
    "    lowest_student = None\n",
    "    for student, grades in gradebook.items():\n",
    "        grade = grades.get(subject)\n",
    "        if grade is not None:\n",
    "            if highest is None or grade > highest:\n",
    "                highest = grade\n",
    "                highest_student = student\n",
    "            if lowest is None or grade < lowest:\n",
    "                lowest = grade\n",
    "                lowest_student = student\n",
    "    return (highest_student, highest), (lowest_student, lowest)\n",
    "# Function to sort students by their average grades (from highest to lowest)\n",
    "def sort_students_by_average(averages):\n",
    "    sorted_students = sorted(averages.items(), key=lambda x: x[1], reverse=True)\n",
    "    return sorted_students\n",
    "# Calculate average grades for each student\n",
    "averages = calculate_averages(gradebook)\n",
    "# Find highest and lowest grades in 'math'\n",
    "highest_in_math, lowest_in_math = find_highest_and_lowest_in_subject(gradebook, \"math\")\n",
    "# Sort students by their average grades\n",
    "sorted_students = sort_students_by_average(averages)\n",
    "# Output results\n",
    "print(\"Average grades:\")\n",
    "for student, avg in averages.items():\n",
    "    print(f\"{student}: {avg:f}\")\n",
    "\n",
    "print(f\"Highest grade in math: {highest_in_math[0]} with {highest_in_math[1]} grade.\")\n",
    "print(f\"Lowest grade in math: {lowest_in_math[0]} with {lowest_in_math[1]} grade.\")\n",
    "\n",
    "print(\"Students sorted by average grade:\")\n",
    "for student, avg in sorted_students:\n",
    "    print(f\"{student}: {avg:f}\")\n"
   ]
  }
 ],
 "metadata": {
  "kernelspec": {
   "display_name": "Python 3 (ipykernel)",
   "language": "python",
   "name": "python3"
  },
  "language_info": {
   "codemirror_mode": {
    "name": "ipython",
    "version": 3
   },
   "file_extension": ".py",
   "mimetype": "text/x-python",
   "name": "python",
   "nbconvert_exporter": "python",
   "pygments_lexer": "ipython3",
   "version": "3.12.7"
  }
 },
 "nbformat": 4,
 "nbformat_minor": 5
}
